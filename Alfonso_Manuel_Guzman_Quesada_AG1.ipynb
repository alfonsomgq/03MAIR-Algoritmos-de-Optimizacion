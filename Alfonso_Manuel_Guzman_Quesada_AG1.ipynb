{
  "nbformat": 4,
  "nbformat_minor": 0,
  "metadata": {
    "colab": {
      "name": "Alfonso_Manuel_Guzman_Quesada-AG1.ipynb",
      "provenance": [],
      "collapsed_sections": [],
      "mount_file_id": "1p1hHcZtMFb1WLi6GBz4oCGE6DvkGvgMC",
      "authorship_tag": "ABX9TyNpH0lSSj3J2UtSzIfLO/sm",
      "include_colab_link": true
    },
    "kernelspec": {
      "name": "python3",
      "display_name": "Python 3"
    }
  },
  "cells": [
    {
      "cell_type": "markdown",
      "metadata": {
        "id": "view-in-github",
        "colab_type": "text"
      },
      "source": [
        "<a href=\"https://colab.research.google.com/github/alfonsomgq/03MAIR-Algoritmos-de-Optimizacion/blob/AG1/Alfonso_Manuel_Guzman_Quesada_AG1.ipynb\" target=\"_parent\"><img src=\"https://colab.research.google.com/assets/colab-badge.svg\" alt=\"Open In Colab\"/></a>"
      ]
    },
    {
      "cell_type": "markdown",
      "metadata": {
        "id": "CXOy4b-Ptmki"
      },
      "source": [
        "#Algoritmos - Actividad Guiada 1\r\n",
        "\r\n",
        "Nombre: Alfonso Manuel Guzmán Quesada <br>\r\n",
        "URL: https://colab.research.google.com/drive/1p1hHcZtMFb1WLi6GBz4oCGE6DvkGvgMC?usp=sharing <br>\r\n",
        "Github: https://github.com/alfonsomgq/03MAIR-Algoritmos-de-Optimizacion/tree/AG1"
      ]
    },
    {
      "cell_type": "markdown",
      "metadata": {
        "id": "3_910-xmvUXW"
      },
      "source": [
        "## Actividad 1. Torres de Hanoi: Divide y Vencerás"
      ]
    },
    {
      "cell_type": "code",
      "metadata": {
        "colab": {
          "base_uri": "https://localhost:8080/"
        },
        "id": "3_lvxoRdvblx",
        "outputId": "2524c536-0c6c-4fa0-a687-918e0d98dc58"
      },
      "source": [
        "def Torres_Hanoi (N, desde, hasta):\r\n",
        "  if N == 1:\r\n",
        "    print(\"Lleva la ficha \", desde, \"hasta \", hasta)\r\n",
        "\r\n",
        "  else:\r\n",
        "    Torres_Hanoi(N-1, desde, 6-desde-hasta)\r\n",
        "    print(\"Lleva la ficha \", desde, \"hasta \", hasta)\r\n",
        "    Torres_Hanoi(N-1, 6-desde-hasta, hasta)\r\n",
        "\r\n",
        "Torres_Hanoi (3,1,3)"
      ],
      "execution_count": 4,
      "outputs": [
        {
          "output_type": "stream",
          "text": [
            "Lleva la ficha  1 hasta  3\n",
            "Lleva la ficha  1 hasta  2\n",
            "Lleva la ficha  3 hasta  2\n",
            "Lleva la ficha  1 hasta  3\n",
            "Lleva la ficha  2 hasta  1\n",
            "Lleva la ficha  2 hasta  3\n",
            "Lleva la ficha  1 hasta  3\n"
          ],
          "name": "stdout"
        }
      ]
    },
    {
      "cell_type": "markdown",
      "metadata": {
        "id": "CfPZcJmP7EZq"
      },
      "source": [
        "##Actividad 2. Cambio Monedas: Algoritmos Voraces"
      ]
    },
    {
      "cell_type": "code",
      "metadata": {
        "colab": {
          "base_uri": "https://localhost:8080/"
        },
        "id": "6foCUbUk7LZe",
        "outputId": "77b91359-58d7-46b7-91ce-63f78869908f"
      },
      "source": [
        "def cambio_monedas (N,SM):\r\n",
        "  SOLUCION = [0]*len(SM)\r\n",
        "  ValorAcumulado = 0\r\n",
        "\r\n",
        "  for i,valor in enumerate(SM):\r\n",
        "    monedas  = (N-ValorAcumulado)//valor\r\n",
        "    SOLUCION[i] = monedas\r\n",
        "    ValorAcumulado = ValorAcumulado + monedas*valor\r\n",
        "\r\n",
        "    if ValorAcumulado == N:\r\n",
        "      return SOLUCION\r\n",
        "\r\n",
        "\r\n",
        "cambio_monedas(57, [50,25,10,5,1])"
      ],
      "execution_count": 7,
      "outputs": [
        {
          "output_type": "execute_result",
          "data": {
            "text/plain": [
              "[1, 0, 0, 1, 2]"
            ]
          },
          "metadata": {
            "tags": []
          },
          "execution_count": 7
        }
      ]
    },
    {
      "cell_type": "markdown",
      "metadata": {
        "id": "aL8xSZss_NY2"
      },
      "source": [
        "##N Reinas por  técnica de Vuelta Atrás"
      ]
    },
    {
      "cell_type": "code",
      "metadata": {
        "colab": {
          "base_uri": "https://localhost:8080/"
        },
        "id": "MvYKFUyQ_RIF",
        "outputId": "ff20f58e-abda-4a25-d0ce-d0fac023da9b"
      },
      "source": [
        "def escribe(S):\r\n",
        "  n = len(S)\r\n",
        "  for x in range(n):\r\n",
        "    print(\"\")\r\n",
        "    for i in range(n):\r\n",
        "      if S[i] == x+1:\r\n",
        "        print(\" X \" , end=\"\")\r\n",
        "      else:\r\n",
        "        print(\" - \", end=\"\")\r\n",
        "\r\n",
        "def es_prometedora(SOLUCION,etapa):\r\n",
        "  #print(SOLUCION)\r\n",
        "  #Si la solución tiene dos valores iguales no es valida => Dos reinas en la misma fila\r\n",
        "  for i in range(etapa+1):\r\n",
        "    #print(\"El valor \" + str(SOLUCION[i]) + \" está \" +  str(SOLUCION.count(SOLUCION[i])) + \" veces\")\r\n",
        "    if SOLUCION.count(SOLUCION[i]) > 1:       \r\n",
        "      return False\r\n",
        "\r\n",
        "    #Verifica las diagonales\r\n",
        "    for j in range(i+1, etapa +1):\r\n",
        "      #print(\"Comprobando diagonal de \" + str(i) + \" y \" + str(j))\r\n",
        "      if abs(i-j) == abs(SOLUCION[i]-SOLUCION[j]) : return False\r\n",
        "  return True\r\n",
        "\r\n",
        "def reinas (N, solucion = [],etapa=0):\r\n",
        "\r\n",
        "  if len(solucion)==0:\r\n",
        "    solucion = [0 for i in range(N)]\r\n",
        "\r\n",
        "  for i in range(1,N+1):\r\n",
        "    solucion[etapa] = i\r\n",
        "\r\n",
        "    if es_prometedora(solucion,etapa):\r\n",
        "     if etapa == N-1:\r\n",
        "        print(\"\")\r\n",
        "        print(solucion)\r\n",
        "        escribe(solucion)\r\n",
        "        \r\n",
        "     else:\r\n",
        "        reinas(N,solucion,etapa+1)\r\n",
        "    else:\r\n",
        "       None\r\n",
        "\r\n",
        "    solucion[etapa] = 0\r\n",
        "\r\n",
        "reinas(4)  \r\n"
      ],
      "execution_count": 20,
      "outputs": [
        {
          "output_type": "stream",
          "text": [
            "\n",
            "[2, 4, 1, 3]\n",
            "\n",
            " -  -  X  - \n",
            " X  -  -  - \n",
            " -  -  -  X \n",
            " -  X  -  - \n",
            "[3, 1, 4, 2]\n",
            "\n",
            " -  X  -  - \n",
            " -  -  -  X \n",
            " X  -  -  - \n",
            " -  -  X  - "
          ],
          "name": "stdout"
        }
      ]
    }
  ]
}