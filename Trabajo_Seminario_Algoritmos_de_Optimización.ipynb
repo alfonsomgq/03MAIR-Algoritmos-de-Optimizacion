{
  "nbformat": 4,
  "nbformat_minor": 0,
  "metadata": {
    "colab": {
      "name": "Trabajo_Seminario_Algoritmos_de_Optimización.ipynb",
      "provenance": [],
      "collapsed_sections": [],
      "include_colab_link": true
    },
    "kernelspec": {
      "name": "python3",
      "display_name": "Python 3"
    }
  },
  "cells": [
    {
      "cell_type": "markdown",
      "metadata": {
        "id": "view-in-github",
        "colab_type": "text"
      },
      "source": [
        "<a href=\"https://colab.research.google.com/github/alfonsomgq/03MAIR-Algoritmos-de-Optimizacion/blob/TF/Trabajo_Seminario_Algoritmos_de_Optimizaci%C3%B3n.ipynb\" target=\"_parent\"><img src=\"https://colab.research.google.com/assets/colab-badge.svg\" alt=\"Open In Colab\"/></a>"
      ]
    },
    {
      "cell_type": "markdown",
      "metadata": {
        "id": "hVbXYX-RfPWh"
      },
      "source": [
        "# Algoritmos de optimización - Seminario<br>\n",
        "Nombre y Apellidos:   <br>\n",
        "Url: https://github.com/.../03MAIR---Algoritmos-de-Optimizacion---2019/tree/master/SEMINARIO<br>\n",
        "Problema:\n",
        "> 1. Elección de grupos de población homogéneos <br>\n",
        ">2. Organizar los horarios de partidos de La Liga<br>\n",
        ">3. Combinar cifras y operaciones\n",
        "\n",
        "Descripción del problema:(copiar enunciado)\n",
        "\n",
        "....\n",
        "\n",
        "(*) La respuesta es obligatoria\n",
        "\n",
        "\n",
        "\n",
        "\n",
        "\n",
        "                                        "
      ]
    },
    {
      "cell_type": "markdown",
      "metadata": {
        "id": "sGWXcUuBFQBn"
      },
      "source": [
        "<font color='Red'>3. Combinar cifras y operaciones</font>"
      ]
    },
    {
      "cell_type": "markdown",
      "metadata": {
        "id": "ge62l4mJH7IT"
      },
      "source": [
        "---"
      ]
    },
    {
      "cell_type": "markdown",
      "metadata": {
        "id": "3_-exlrTgLd-"
      },
      "source": [
        "(*)¿Cuantas posibilidades hay sin tener en cuenta las restricciones?<br>\n",
        "\n",
        "\n",
        "\n",
        "¿Cuantas posibilidades hay teniendo en cuenta todas las restricciones.\n",
        "\n",
        "\n"
      ]
    },
    {
      "cell_type": "markdown",
      "metadata": {
        "id": "WfCUqJyKhPcw"
      },
      "source": [
        "<font color='Blue'>Respuesta</font>:\r\n",
        "- *Este problema es del tipo combinatoria, por lo cual sin tenener en cuenta las reestricciones (cualquier número, cualquier tipo de operador y la repetición de operadores habría infinitas posibilidades). Sin embargo y considerando los 9 números, los 4 signos, y el usarlos de operaciones de 5 números, se tendrían:*<br>\r\n",
        "$9^5*4^4 = 15116544$\r\n",
        "- *Teniendo en cuenta las reestricciones habría $9*8*7*6*5*4*3*2*1 = 362880 posibilidades$*\r\n"
      ]
    },
    {
      "cell_type": "markdown",
      "metadata": {
        "id": "VvJzhvU2CtO6"
      },
      "source": [
        "---"
      ]
    },
    {
      "cell_type": "markdown",
      "metadata": {
        "id": "dzynfVJahHoY"
      },
      "source": [
        "Modelo para el espacio de soluciones<br>\n",
        "(*) ¿Cual es la estructura de datos que mejor se adapta al problema? Argumentalo.(Es posible que hayas elegido una al principio y veas la necesidad de cambiar, arguentalo)\n"
      ]
    },
    {
      "cell_type": "markdown",
      "metadata": {
        "id": "xFIJrOwKi2Ti"
      },
      "source": [
        "<font color='Blue'>Respuesta</font>: <br>\r\n",
        "*La estructura de datos que mejor se ajusta al problema es la de array de datos de tipo caracter. Podría utilizarse tambien un lista, pero de esta forma aseguramos que todos los datos contenidos van a tener el mismo formato y evitar así problemas posteriores en el diseño y ejecución del algoritmo:*\r\n",
        "\r\n",
        "$[1,2,3,4,5,6,7,8,9], [+,-,/,*]$"
      ]
    },
    {
      "cell_type": "markdown",
      "metadata": {
        "id": "oCXrePfoH9oQ"
      },
      "source": [
        "---"
      ]
    },
    {
      "cell_type": "markdown",
      "metadata": {
        "id": "7Z9U2W7bi-XS"
      },
      "source": [
        "Según el modelo para el espacio de soluciones<br>\n",
        "(*)¿Cual es la función objetivo?\n",
        "\n",
        "(*)¿Es un problema de maximización o minimización?"
      ]
    },
    {
      "cell_type": "markdown",
      "metadata": {
        "id": "hBalWLM7j1_d"
      },
      "source": [
        "<font color='Blue'>Respuesta</font>: <br>\r\n",
        "- *La función objetivo es aquella que nos proporciona el valor buscado,del tipo $A+B-C/D*E = F$, teniendo los signos un orden dependiente del valor de F*\r\n",
        "- Sería un problema de minimización resultante de comparar el valor obtenido de la función objetivo con el valor buscado, buscando que este sea 0."
      ]
    },
    {
      "cell_type": "markdown",
      "metadata": {
        "id": "RVb_0oXYIAJ2"
      },
      "source": [
        "---"
      ]
    },
    {
      "cell_type": "markdown",
      "metadata": {
        "id": "rlnTYgY1j6I2"
      },
      "source": [
        "Diseña un algoritmo para resolver el problema por fuerza bruta"
      ]
    },
    {
      "cell_type": "markdown",
      "metadata": {
        "id": "70rDgxYXkC8r"
      },
      "source": [
        "<font color='Blue'>Respuesta</font>: <br>\r\n"
      ]
    },
    {
      "cell_type": "code",
      "metadata": {
        "id": "myi7GF3AfrOF"
      },
      "source": [
        "from itertools import permutations,repeat\r\n",
        "\r\n",
        "operadores = ['+','-','/','*']\r\n",
        "\r\n",
        "def permutaciones(n):\r\n",
        "  return list(permutations(range(1,n+1),5))\r\n",
        "\r\n",
        "def clear(lista):\r\n",
        "  lista_clear = list(repeat(0, len(lista))) #Creamos una lista de ceros \r\n",
        "  for i in range(len(lista)): # Crear una lista con las permutaciones en str sin espacios\r\n",
        "    # print(lista[i])\r\n",
        "    x = str(lista[i])\r\n",
        "    lista_clear[i]=x.replace(\" \", \"\")\r\n",
        "  return lista_clear\r\n",
        "\r\n",
        "def fuerza_bruta(valor, extra):\r\n",
        "  cont = 0\r\n",
        "  perm = permutaciones(9) # Creamos la lista de todas las permutaciones posibles con los 9 valores\r\n",
        "  lista_limpia = clear(perm)\r\n",
        "  for i in range(len(lista_limpia)):\r\n",
        "    x = lista_limpia[i]\r\n",
        "    for j in range (len(operadores)):\r\n",
        "      for k in range (len(operadores)):\r\n",
        "        for l in range (len(operadores)):\r\n",
        "          for m in range (len(operadores)):\r\n",
        "            # print(x)\r\n",
        "            # print(operadores)\r\n",
        "            sol = x[1] + operadores[j]+ x[3]+ operadores[k]+ x[5]+ operadores[l]+ x[7]+ operadores[m]+ x[9]\r\n",
        "\r\n",
        "            if (eval(sol)==valor and extra == 1):\r\n",
        "              print(\"Una solución es \" + sol + \"  \" +  str(eval(sol)))\r\n",
        "              return\r\n",
        "            elif (eval(sol)==valor and extra == 2):\r\n",
        "              cont = cont + 1 \r\n",
        "              sol_ok = x[1] + operadores[j]+ x[3]+ operadores[k]+ x[5]+ operadores[l]+ x[7]+ operadores[m]+ x[9]\r\n",
        "            elif (eval(sol)==valor and extra == 2):\r\n",
        "              print(\"Datos de entrada incorrectos\")\r\n",
        "              \r\n",
        "  print(\"Hay \" + str(cont) + \" combinaciones para extraer el valor \" + str(valor))\r\n",
        "  print(\"Una solución es \" + sol + \"  \" +  str(eval(sol_ok)))\r\n",
        "\r\n",
        "#En este ejercicio presento dos opciones para realizar el problema:\r\n",
        "#La función a ejecutar es fuerza_bruta(val,opcion):\r\n",
        "#         - val: valor a buscar por combinación.\r\n",
        "#         - opcion: si se elige 1 el algoritmo parará cuando en cuentre la 1ª solución. Si se elige la 2 arrojará como resultado además el nº total de \r\n",
        "#           combinaciones que satisfacen el valor dado por el usuario. Dependiendo de los recursos puede tardar de un minuto en adelante\r\n",
        "\r\n",
        "%time fuerza_bruta(4,2)\r\n",
        "\r\n",
        "# Hay que poner la condidición de no repetir valores"
      ],
      "execution_count": null,
      "outputs": []
    },
    {
      "cell_type": "markdown",
      "metadata": {
        "id": "qZAdWSOwICcq"
      },
      "source": [
        "---"
      ]
    },
    {
      "cell_type": "markdown",
      "metadata": {
        "id": "tgrnsC2nkFa8"
      },
      "source": [
        "Calcula la complejidad del algoritmo por fuerza bruta"
      ]
    },
    {
      "cell_type": "markdown",
      "metadata": {
        "id": "9eUd3xwckP68"
      },
      "source": [
        "<font color='Blue'>Respuesta</font>: <br>\r\n",
        "La complejidad sería $O(n^5)$ ya que tenemos 5 bucles for anidados, pudiendo despreciarse la complejidad del resto de operaciones"
      ]
    },
    {
      "cell_type": "markdown",
      "metadata": {
        "id": "H8Q-zskQIE4T"
      },
      "source": [
        "---"
      ]
    },
    {
      "cell_type": "markdown",
      "metadata": {
        "id": "txbrmLmskReM"
      },
      "source": [
        "(*)Diseña un algoritmo que mejore la complejidad del algortimo por fuerza bruta. Argumenta porque crees que mejora el algoritmo por fuerza bruta"
      ]
    },
    {
      "cell_type": "markdown",
      "metadata": {
        "id": "hLrVwt5QkZPD"
      },
      "source": [
        "<font color='Blue'>Respuesta</font>: <br>\r\n",
        "El algoritmo de fuerza bruta siempre va a ser peor que cualquier otro que mejore la forma de resolverlo"
      ]
    },
    {
      "cell_type": "code",
      "metadata": {
        "id": "m1eyM21Vkabg"
      },
      "source": [
        ""
      ],
      "execution_count": null,
      "outputs": []
    },
    {
      "cell_type": "markdown",
      "metadata": {
        "id": "eGDB4K6uk1iN"
      },
      "source": [
        "(*)Calcula la complejidad del algoritmo "
      ]
    },
    {
      "cell_type": "markdown",
      "metadata": {
        "id": "NhpTh_BPk1ms"
      },
      "source": [
        "Respuesta"
      ]
    },
    {
      "cell_type": "code",
      "metadata": {
        "id": "nREzhkStlCq8"
      },
      "source": [
        ""
      ],
      "execution_count": null,
      "outputs": []
    },
    {
      "cell_type": "markdown",
      "metadata": {
        "id": "3M6QjTsSkmYe"
      },
      "source": [
        "Según el problema (y tenga sentido), diseña un juego de datos de entrada aleatorios"
      ]
    },
    {
      "cell_type": "markdown",
      "metadata": {
        "id": "Jc3_OlyNkvjZ"
      },
      "source": [
        "<font color='Blue'>Respuesta</font>: <br>"
      ]
    },
    {
      "cell_type": "code",
      "metadata": {
        "id": "sJ-N2etjkyWc"
      },
      "source": [
        ""
      ],
      "execution_count": null,
      "outputs": []
    },
    {
      "cell_type": "markdown",
      "metadata": {
        "id": "zy5ZROmjlGo1"
      },
      "source": [
        "Aplica el algoritmo al juego de datos generado"
      ]
    },
    {
      "cell_type": "markdown",
      "metadata": {
        "id": "_Cmj-PVylMsa"
      },
      "source": [
        "<font color='Blue'>Respuesta</font>: <br>"
      ]
    },
    {
      "cell_type": "code",
      "metadata": {
        "id": "Jkx8GeiYlUz1"
      },
      "source": [
        ""
      ],
      "execution_count": null,
      "outputs": []
    },
    {
      "cell_type": "markdown",
      "metadata": {
        "id": "eTFWUJQrtGcv"
      },
      "source": [
        "Enumera las referencias que has utilizado(si ha sido necesario) para llevar a cabo el trabajo"
      ]
    },
    {
      "cell_type": "markdown",
      "metadata": {
        "id": "YKQ_mRBttWsP"
      },
      "source": [
        "<font color='Blue'>Respuesta</font>: <br>"
      ]
    },
    {
      "cell_type": "markdown",
      "metadata": {
        "id": "kAkDPUyRtYyH"
      },
      "source": [
        "Describe brevemente las lineas de como crees que es posible avanzar en el estudio del problema. Ten en cuenta incluso posibles variaciones del problema y/o variaciones al alza del tamaño"
      ]
    },
    {
      "cell_type": "markdown",
      "metadata": {
        "id": "IE0uZmo-tZu-"
      },
      "source": [
        "<font color='Blue'>Respuesta</font>: <br>"
      ]
    }
  ]
}