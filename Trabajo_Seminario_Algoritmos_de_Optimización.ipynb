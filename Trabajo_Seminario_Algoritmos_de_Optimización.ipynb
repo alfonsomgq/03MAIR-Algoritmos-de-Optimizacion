{
  "nbformat": 4,
  "nbformat_minor": 0,
  "metadata": {
    "colab": {
      "name": "Trabajo_Seminario_Algoritmos_de_Optimización.ipynb",
      "provenance": [],
      "collapsed_sections": [],
      "include_colab_link": true
    },
    "kernelspec": {
      "name": "python3",
      "display_name": "Python 3"
    }
  },
  "cells": [
    {
      "cell_type": "markdown",
      "metadata": {
        "id": "view-in-github",
        "colab_type": "text"
      },
      "source": [
        "<a href=\"https://colab.research.google.com/github/alfonsomgq/03MAIR-Algoritmos-de-Optimizacion/blob/TF/Trabajo_Seminario_Algoritmos_de_Optimizaci%C3%B3n.ipynb\" target=\"_parent\"><img src=\"https://colab.research.google.com/assets/colab-badge.svg\" alt=\"Open In Colab\"/></a>"
      ]
    },
    {
      "cell_type": "markdown",
      "metadata": {
        "id": "hVbXYX-RfPWh"
      },
      "source": [
        "# Algoritmos de optimización - Seminario<br>\n",
        "Nombre y Apellidos: ALFONSO MANUEL GUZMÁN QUESADA   <br>\n",
        "Url:https://colab.research.google.com/drive/1eg4NrZEITQDBOVaHuLiYiXm8pkOrqoYJ?usp=sharing<br>\n",
        "Github:https://github.com/alfonsomgq/03MAIR-Algoritmos-de-Optimizacion/blob/TF/Trabajo_Seminario_Algoritmos_de_Optimizaci%C3%B3n.ipynb\n",
        "<br>\n",
        "Problema:\n",
        "> 1. Elección de grupos de población homogéneos <br>\n",
        ">2. Organizar los horarios de partidos de La Liga<br>\n",
        ">3. Combinar cifras y operaciones\n",
        "\n",
        "Descripción del problema:(copiar enunciado)\n",
        "\n",
        "....\n",
        "\n",
        "(*) La respuesta es obligatoria\n",
        "\n",
        "\n",
        "\n",
        "\n",
        "\n",
        "                                        "
      ]
    },
    {
      "cell_type": "markdown",
      "metadata": {
        "id": "KDysC0x-0UAQ"
      },
      "source": [
        "**3. Combinar cifras y operaciones**"
      ]
    },
    {
      "cell_type": "markdown",
      "metadata": {
        "id": "ge62l4mJH7IT"
      },
      "source": [
        "---"
      ]
    },
    {
      "cell_type": "markdown",
      "metadata": {
        "id": "3_-exlrTgLd-"
      },
      "source": [
        "###(*)¿Cuantas posibilidades hay sin tener en cuenta las restricciones?<br>\n",
        "\n",
        "\n",
        "\n",
        "¿Cuantas posibilidades hay teniendo en cuenta todas las restricciones.\n",
        "\n",
        "\n"
      ]
    },
    {
      "cell_type": "markdown",
      "metadata": {
        "id": "WfCUqJyKhPcw"
      },
      "source": [
        "<font color='Blue'>Respuesta</font>:\r\n",
        "- *Sin tenener en cuenta las reestricciones (cualquier número, cualquier tipo de operador y la repetición de operadores habría infinitas posibilidades). Sin embargo y considerando los 9 números, los 4 signos, y el tener que usarlos en operaciones de 5 números, se tendrían:*<br>\r\n",
        "$9^5*4^4 = 15116544 posibilidades$\r\n",
        "- *Teniendo en cuenta las reestricciones habría $9*8*7*6*5*4*3*2*1 = 362880 posibilidades$*\r\n"
      ]
    },
    {
      "cell_type": "markdown",
      "metadata": {
        "id": "VvJzhvU2CtO6"
      },
      "source": [
        "---"
      ]
    },
    {
      "cell_type": "markdown",
      "metadata": {
        "id": "dzynfVJahHoY"
      },
      "source": [
        "###Modelo para el espacio de soluciones<br>\n",
        "(*) ¿Cual es la estructura de datos que mejor se adapta al problema? Argumentalo.(Es posible que hayas elegido una al principio y veas la necesidad de cambiar, arguentalo)\n"
      ]
    },
    {
      "cell_type": "markdown",
      "metadata": {
        "id": "xFIJrOwKi2Ti"
      },
      "source": [
        "<font color='Blue'>Respuesta</font>: <br>\r\n",
        "*La estructura de datos que mejor se ajusta al problema es la de array de datos de tipo caracter. Podría utilizarse tambien por ejemplo en forma de lista, pero de esta forma aseguramos que todos los datos contenidos van a tener el mismo formato y evitar así problemas posteriores en el diseño y ejecución del algoritmo:*\r\n",
        "\r\n",
        "$['1','2','3','4','5','6','7','8','9'], ['+','-','/','*']$"
      ]
    },
    {
      "cell_type": "markdown",
      "metadata": {
        "id": "oCXrePfoH9oQ"
      },
      "source": [
        "---"
      ]
    },
    {
      "cell_type": "markdown",
      "metadata": {
        "id": "7Z9U2W7bi-XS"
      },
      "source": [
        "###Según el modelo para el espacio de soluciones<br>\n",
        "(*)¿Cual es la función objetivo?\n",
        "\n",
        "(*)¿Es un problema de maximización o minimización?"
      ]
    },
    {
      "cell_type": "markdown",
      "metadata": {
        "id": "hBalWLM7j1_d"
      },
      "source": [
        "<font color='Blue'>Respuesta</font>: <br>\r\n",
        "- *La función objetivo es aquella que nos proporciona el valor buscado,del tipo $A+B-C/D*E = F$, teniendo los signos un orden dependiente del valor buscado, F*\r\n",
        "- Sería un problema de minimización resultante de comparar el valor obtenido de la función objetivo con el valor buscado, buscando que este sea 0."
      ]
    },
    {
      "cell_type": "markdown",
      "metadata": {
        "id": "RVb_0oXYIAJ2"
      },
      "source": [
        "---"
      ]
    },
    {
      "cell_type": "markdown",
      "metadata": {
        "id": "rlnTYgY1j6I2"
      },
      "source": [
        "###Diseña un algoritmo para resolver el problema por fuerza bruta"
      ]
    },
    {
      "cell_type": "markdown",
      "metadata": {
        "id": "70rDgxYXkC8r"
      },
      "source": [
        "<font color='Blue'>Respuesta</font>: <br>\r\n"
      ]
    },
    {
      "cell_type": "code",
      "metadata": {
        "colab": {
          "base_uri": "https://localhost:8080/",
          "height": 0
        },
        "id": "myi7GF3AfrOF",
        "outputId": "39fce43f-f1f0-4685-91a5-b1dd7ef559ef"
      },
      "source": [
        "from itertools import permutations,repeat\r\n",
        "\r\n",
        "operadores = ['+','-','/','*']\r\n",
        "\r\n",
        "def permutaciones(n):\r\n",
        "  return list(permutations(range(1,n+1),5))\r\n",
        "\r\n",
        "def clear(lista):\r\n",
        "  lista_clear = list(repeat(0, len(lista))) #Creamos una lista de ceros \r\n",
        "  for i in range(len(lista)): # Crear una lista con las permutaciones en str sin espacios\r\n",
        "    # print(lista[i])\r\n",
        "    x = str(lista[i])\r\n",
        "    lista_clear[i]=x.replace(\" \", \"\")\r\n",
        "  return lista_clear\r\n",
        "\r\n",
        "def fuerza_bruta(valor, extra):\r\n",
        "  cont = 0\r\n",
        "  perm = permutaciones(9) # Creamos la lista de todas las permutaciones posibles con los 9 valores\r\n",
        "  lista_limpia = clear(perm)\r\n",
        "  for i in range(len(lista_limpia)):\r\n",
        "    x = lista_limpia[i]\r\n",
        "    for j in range (len(operadores)):\r\n",
        "      for k in range (len(operadores)):\r\n",
        "        if (operadores[k]==operadores[j]): pass\r\n",
        "        for l in range (len(operadores)):\r\n",
        "          if (operadores[l]==operadores[k] or operadores[l]==operadores[k]): pass\r\n",
        "          for m in range (len(operadores)):\r\n",
        "            if (operadores[m]==operadores[l] or operadores[m]==operadores[k] or operadores[m]==operadores[j]): \r\n",
        "              pass\r\n",
        "            else:\r\n",
        "              sol = x[1] + operadores[j]+ x[3]+ operadores[k]+ x[5]+ operadores[l]+ x[7]+ operadores[m]+ x[9]\r\n",
        "              if (eval(sol)==valor and extra == 1):\r\n",
        "                print(\"Fuerza Bruta. Una solución par el valor de: \" + str(valor) + \" es \" + sol)\r\n",
        "                return\r\n",
        "              elif (eval(sol)==valor and extra == 2):\r\n",
        "                cont = cont + 1 \r\n",
        "                sol_ok = x[1] + operadores[j]+ x[3]+ operadores[k]+ x[5]+ operadores[l]+ x[7]+ operadores[m]+ x[9]\r\n",
        "              elif (eval(sol)==valor and extra == 2):\r\n",
        "                print(\"Datos de entrada incorrectos\")\r\n",
        "              \r\n",
        "  print(\"Hay \" + str(cont) + \" combinaciones para extraer el valor \" + str(valor))\r\n",
        "  print(\"Fuerza Bruta. Una solución par el valor de: \" + str(valor) + \" es \" + sol_ok )\r\n",
        "\r\n",
        "#En este ejercicio presento dos opciones para realizar el problema:\r\n",
        "#La función a ejecutar es fuerza_bruta(val,opcion):\r\n",
        "#         - val: valor a buscar por combinación.\r\n",
        "#         - opcion: si se elige 1 el algoritmo parará cuando en cuentre la 1ª solución. Si se elige la 2 arrojará como resultado además el nº total de \r\n",
        "#           combinaciones que satisfacen el valor dado por el usuario. Dependiendo de los recursos puede tardar de un minuto en adelante\r\n",
        "\r\n",
        "%time fuerza_bruta(15,1)\r\n",
        "# %time fuerza_bruta(57,2)\r\n",
        "\r\n",
        "# Hay que poner la condidición de no repetir valores"
      ],
      "execution_count": 1,
      "outputs": [
        {
          "output_type": "stream",
          "text": [
            "Fuerza Bruta. Una solución par el valor de: 15 es 1/2*3*4+9\n",
            "CPU times: user 92.4 ms, sys: 5.06 ms, total: 97.5 ms\n",
            "Wall time: 97.5 ms\n"
          ],
          "name": "stdout"
        }
      ]
    },
    {
      "cell_type": "markdown",
      "metadata": {
        "id": "qZAdWSOwICcq"
      },
      "source": [
        "---"
      ]
    },
    {
      "cell_type": "markdown",
      "metadata": {
        "id": "tgrnsC2nkFa8"
      },
      "source": [
        "###Calcula la complejidad del algoritmo por fuerza bruta"
      ]
    },
    {
      "cell_type": "markdown",
      "metadata": {
        "id": "9eUd3xwckP68"
      },
      "source": [
        "<font color='Blue'>Respuesta</font>: <br>\r\n",
        "La complejidad sería $O(n^5)$ ya que tenemos 5 bucles for anidados, pudiendo despreciarse la complejidad del resto de operaciones"
      ]
    },
    {
      "cell_type": "markdown",
      "metadata": {
        "id": "H8Q-zskQIE4T"
      },
      "source": [
        "---"
      ]
    },
    {
      "cell_type": "markdown",
      "metadata": {
        "id": "txbrmLmskReM"
      },
      "source": [
        "###(*)Diseña un algoritmo que mejore la complejidad del algortimo por fuerza bruta. Argumenta porque crees que mejora el algoritmo por fuerza bruta"
      ]
    },
    {
      "cell_type": "markdown",
      "metadata": {
        "id": "hLrVwt5QkZPD"
      },
      "source": [
        "<font color='Blue'>Respuesta</font>: <br>\r\n",
        "El algoritmo de fuerza bruta siempre va a ser peor que cualquier otro que mejore la forma de resolverlo, ya que en este se analizan todas las casuísticas posibles <br>\r\n",
        "\r\n",
        "Para este problema he decidido utilizar la técnica metaheurística de **Búsqueda Aleatoria**."
      ]
    },
    {
      "cell_type": "code",
      "metadata": {
        "id": "m1eyM21Vkabg",
        "colab": {
          "base_uri": "https://localhost:8080/",
          "height": 0
        },
        "outputId": "db381267-4a18-4291-9ad8-fdee835c017a"
      },
      "source": [
        "import random\r\n",
        "\r\n",
        "signos = [\"+\",'-','*','/']\r\n",
        "numeros = [\"1\",\"2\",\"3\",\"4\",\"5\",\"6\",\"7\",\"8\",\"9\"]\r\n",
        "\r\n",
        "\r\n",
        "def formula_aleatoria(valor,  bucle):\r\n",
        "  intentos = 0\r\n",
        "  resultado = \"\"\r\n",
        "  sign = signos[:]\r\n",
        "  num = numeros[:]\r\n",
        "  error = 99999\r\n",
        "  while error != 0 and intentos < bucle:\r\n",
        "    random.shuffle(sign)\r\n",
        "    random.shuffle(num)\r\n",
        "    numeral =num[:5]\r\n",
        "    expresion = numeral[0]+sign[0]+numeral[1]+sign[1]+numeral[2]+sign[2]+numeral[3]+sign[3]+numeral[4]\r\n",
        "    error = eval(expresion) - valor\r\n",
        "    intentos = intentos + 1 \r\n",
        "  if error == 0:\r\n",
        "    resultado = valor\r\n",
        "    print(\"Técnica Aleatoria. Una solución par el valor de: \" + str(resultado) + \" es \" + expresion + \". Se han realizado \" + str(intentos) + \"  intentos.\" )\r\n",
        "  else:\r\n",
        "    print(\"No se han encontrado resultados en el número de bucles introducido.\")\r\n",
        "\r\n",
        "%time formula_aleatoria(15, 5000)\r\n",
        "\r\n",
        "#En este ejercicio la función necesita dos valores, formula_aleatoria(val,bucle):\r\n",
        "#         - val: valor a buscar por combinación.\r\n",
        "#         - bucle: nº de iteraciones máximas para buscar el valor"
      ],
      "execution_count": 2,
      "outputs": [
        {
          "output_type": "stream",
          "text": [
            "Técnica Aleatoria. Una solución par el valor de: 15 es 2*8+1-6/3. Se han realizado 963  intentos.\n",
            "CPU times: user 14.1 ms, sys: 841 µs, total: 15 ms\n",
            "Wall time: 14.9 ms\n"
          ],
          "name": "stdout"
        }
      ]
    },
    {
      "cell_type": "markdown",
      "metadata": {
        "id": "_bX5S23BXLbb"
      },
      "source": [
        "---\r\n"
      ]
    },
    {
      "cell_type": "markdown",
      "metadata": {
        "id": "eGDB4K6uk1iN"
      },
      "source": [
        "###(*)Calcula la complejidad del algoritmo "
      ]
    },
    {
      "cell_type": "markdown",
      "metadata": {
        "id": "NhpTh_BPk1ms"
      },
      "source": [
        "<font color='Blue'>Respuesta</font>: <br>\r\n",
        "El procedimiento está compuesto de operaciones simples $O(n)$, quedando por evaluar en los métodos shuffle utilizados qué operaciones hace. "
      ]
    },
    {
      "cell_type": "markdown",
      "metadata": {
        "id": "pF3-d50JXNrB"
      },
      "source": [
        "---"
      ]
    },
    {
      "cell_type": "markdown",
      "metadata": {
        "id": "3M6QjTsSkmYe"
      },
      "source": [
        "###Según el problema (y tenga sentido), diseña un juego de datos de entrada aleatorios"
      ]
    },
    {
      "cell_type": "markdown",
      "metadata": {
        "id": "Jc3_OlyNkvjZ"
      },
      "source": [
        "<font color='Blue'>Respuesta</font>: <br>\r\n",
        "Para este problema hay que tener en cuenta la limitación de valores a buscar, ya que los valores de entrada son enteros comprendidos entre 1 y 9 y las operaciones +,-,/ y *. Con este conjunto el rango estará comprendido entre 77 y -69. Con estos datos se generará un conjunto de 5 datos para comparar los algoritmos desarrollados anteriormente. "
      ]
    },
    {
      "cell_type": "code",
      "metadata": {
        "id": "sJ-N2etjkyWc",
        "colab": {
          "base_uri": "https://localhost:8080/",
          "height": 0
        },
        "outputId": "032c56bf-5b2d-4487-e322-273f3c42b0ec"
      },
      "source": [
        "import random\r\n",
        "lista = random.sample(range(-69,77),k=5)\r\n",
        "print (lista)"
      ],
      "execution_count": 3,
      "outputs": [
        {
          "output_type": "stream",
          "text": [
            "[-39, -8, -58, -59, 54]\n"
          ],
          "name": "stdout"
        }
      ]
    },
    {
      "cell_type": "markdown",
      "metadata": {
        "id": "7XwHKPPxXRBn"
      },
      "source": [
        "---\r\n"
      ]
    },
    {
      "cell_type": "markdown",
      "metadata": {
        "id": "zy5ZROmjlGo1"
      },
      "source": [
        "###Aplica el algoritmo al juego de datos generado"
      ]
    },
    {
      "cell_type": "markdown",
      "metadata": {
        "id": "_Cmj-PVylMsa"
      },
      "source": [
        "<font color='Blue'>Respuesta</font>: <br>"
      ]
    },
    {
      "cell_type": "code",
      "metadata": {
        "id": "Jkx8GeiYlUz1",
        "colab": {
          "base_uri": "https://localhost:8080/",
          "height": 0
        },
        "outputId": "a17ed324-c92d-480e-cdf3-1ff22f7bc35b"
      },
      "source": [
        "print(\"Valores a calcular: \")\r\n",
        "print(lista)\r\n",
        "print(\"\")\r\n",
        "for i in range (len(lista)):\r\n",
        "  %time formula_aleatoria(lista[i],5000)\r\n",
        "  %time fuerza_bruta(lista[i],1)\r\n",
        "  print(\"\")"
      ],
      "execution_count": 4,
      "outputs": [
        {
          "output_type": "stream",
          "text": [
            "Valores a calcular: \n",
            "[-39, -8, -58, -59, 54]\n",
            "\n",
            "Técnica Aleatoria. Una solución par el valor de: -39 es 4/1-6*8+5. Se han realizado 4196  intentos.\n",
            "CPU times: user 69.9 ms, sys: 0 ns, total: 69.9 ms\n",
            "Wall time: 71.8 ms\n",
            "Fuerza Bruta. Una solución par el valor de: -39 es 1-2-3-5*7\n",
            "CPU times: user 31.9 ms, sys: 0 ns, total: 31.9 ms\n",
            "Wall time: 32 ms\n",
            "\n",
            "Técnica Aleatoria. Una solución par el valor de: -8 es 7-8/3*6+1. Se han realizado 347  intentos.\n",
            "CPU times: user 5.52 ms, sys: 27 µs, total: 5.55 ms\n",
            "Wall time: 5.55 ms\n",
            "Fuerza Bruta. Una solución par el valor de: -8 es 1-2-3*4+5\n",
            "CPU times: user 22.2 ms, sys: 993 µs, total: 23.2 ms\n",
            "Wall time: 23.7 ms\n",
            "\n",
            "Técnica Aleatoria. Una solución par el valor de: -58 es 4/2+3-7*9. Se han realizado 188  intentos.\n",
            "CPU times: user 2.33 ms, sys: 890 µs, total: 3.22 ms\n",
            "Wall time: 3.22 ms\n",
            "Fuerza Bruta. Una solución par el valor de: -58 es 1-2-3-6*9\n",
            "CPU times: user 50.1 ms, sys: 0 ns, total: 50.1 ms\n",
            "Wall time: 50.7 ms\n",
            "\n",
            "Técnica Aleatoria. Una solución par el valor de: -59 es 7-9*8/1+6. Se han realizado 1148  intentos.\n",
            "CPU times: user 19 ms, sys: 2 µs, total: 19 ms\n",
            "Wall time: 18.8 ms\n",
            "Fuerza Bruta. Una solución par el valor de: -59 es 1-2-4-6*9\n",
            "CPU times: user 116 ms, sys: 59 µs, total: 116 ms\n",
            "Wall time: 118 ms\n",
            "\n",
            "Técnica Aleatoria. Una solución par el valor de: 54 es 9*6-8/2+4. Se han realizado 823  intentos.\n",
            "CPU times: user 13 ms, sys: 4 µs, total: 13.1 ms\n",
            "Wall time: 13.1 ms\n",
            "Fuerza Bruta. Una solución par el valor de: 54 es 1+2+3+6*8\n",
            "CPU times: user 48.9 ms, sys: 0 ns, total: 48.9 ms\n",
            "Wall time: 49.6 ms\n",
            "\n"
          ],
          "name": "stdout"
        }
      ]
    },
    {
      "cell_type": "markdown",
      "metadata": {
        "id": "eTFWUJQrtGcv"
      },
      "source": [
        "###Enumera las referencias que has utilizado(si ha sido necesario) para llevar a cabo el trabajo"
      ]
    },
    {
      "cell_type": "markdown",
      "metadata": {
        "id": "YKQ_mRBttWsP"
      },
      "source": [
        "<font color='Blue'>Respuesta</font>: <br>\r\n",
        "Las referencias principales que he utilizado han sido los apuntes de la asignatura y videos de diversos varios matemáticos y expertos en IA para ampliar conocimientos y comprender los contenidos desde varios puntos de vista"
      ]
    },
    {
      "cell_type": "markdown",
      "metadata": {
        "id": "kAkDPUyRtYyH"
      },
      "source": [
        "###Describe brevemente las lineas de como crees que es posible avanzar en el estudio del problema. Ten en cuenta incluso posibles variaciones del problema y/o variaciones al alza del tamaño"
      ]
    },
    {
      "cell_type": "markdown",
      "metadata": {
        "id": "IE0uZmo-tZu-"
      },
      "source": [
        "<font color='Blue'>Respuesta</font>: <br>\r\n",
        "El problema, aunque muy simple y fácil de entender, puede complicarse por la libertad de las variables de entrada, por ejemplo utilizando los signos operadores en el orden que se desee. Un avance muy práctico y válido para el aprendizaje de todos los algoritmos vistos en la asignatura sería aplicarlo en cada uno de ellos (en los que fuera posible) y estudiar cómo cambia el planteamiento del problema en función de cómo se afronte."
      ]
    }
  ]
}